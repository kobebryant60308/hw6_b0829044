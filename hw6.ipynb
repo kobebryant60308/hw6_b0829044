{
 "cells": [
  {
   "cell_type": "code",
   "execution_count": 1,
   "id": "e24bf716-6667-496f-b8dd-f57d1a72b4bf",
   "metadata": {},
   "outputs": [],
   "source": [
    "from tensorflow import keras\n",
    "from tensorflow.keras import layers\n",
    "\n",
    "model = keras.Sequential([\n",
    "    layers.Dense(64, activation=\"relu\"),\n",
    "    layers.Dense(10, activation=\"softmax\")\n",
    "])"
   ]
  },
  {
   "cell_type": "code",
   "execution_count": 2,
   "id": "e2b2a56d-f036-4dbe-946c-1d0ec327f50c",
   "metadata": {},
   "outputs": [],
   "source": [
    "model = keras.Sequential()\n",
    "model.add(layers.Dense(64, activation=\"relu\"))\n",
    "model.add(layers.Dense(10, activation=\"softmax\"))"
   ]
  },
  {
   "cell_type": "code",
   "execution_count": 3,
   "id": "73bcc452-7c95-4fec-aa17-ae0042aeca55",
   "metadata": {},
   "outputs": [
    {
     "data": {
      "text/plain": [
       "[<tf.Variable 'dense_2/kernel:0' shape=(3, 64) dtype=float32, numpy=\n",
       " array([[ 0.0116688 , -0.15565719, -0.04666087,  0.09777552,  0.04658258,\n",
       "          0.23735332, -0.18493852, -0.2261981 ,  0.24510604,  0.12924051,\n",
       "          0.14359191, -0.25589806,  0.13294643,  0.0176819 ,  0.03639039,\n",
       "          0.02230406,  0.20616454,  0.11452848,  0.11413112,  0.08893642,\n",
       "         -0.18968235, -0.02791134,  0.16723338, -0.17965055,  0.15206242,\n",
       "         -0.11846299,  0.08110869,  0.05853015,  0.09955278, -0.09530005,\n",
       "         -0.22534336, -0.11214639, -0.1168215 ,  0.19891778, -0.20302539,\n",
       "          0.10357407, -0.2966953 , -0.10354382, -0.00261545, -0.23536995,\n",
       "         -0.22468561, -0.2579338 ,  0.06386566,  0.19908708,  0.22567493,\n",
       "          0.14389136,  0.25834215,  0.2698698 , -0.14585969,  0.05732432,\n",
       "          0.0522393 , -0.25550115,  0.21811211, -0.02784154, -0.24349935,\n",
       "          0.20138174,  0.09340349, -0.02342373,  0.1887128 , -0.2697177 ,\n",
       "         -0.05009297,  0.27158678,  0.15819374, -0.13926904],\n",
       "        [ 0.18406254, -0.12495247,  0.0968858 , -0.26080868, -0.10968055,\n",
       "         -0.26508987,  0.2337305 , -0.04686934,  0.22352129, -0.26190406,\n",
       "          0.20659864,  0.29897046, -0.13755135,  0.09775296,  0.14596936,\n",
       "          0.23350024, -0.21296366,  0.298393  , -0.02217728, -0.05396028,\n",
       "          0.06924745,  0.10327804, -0.11825009, -0.06519671, -0.20456356,\n",
       "         -0.05894917,  0.07969651,  0.09988776, -0.17679465,  0.2919082 ,\n",
       "          0.12852362, -0.22210997,  0.19704768, -0.17543298,  0.23238993,\n",
       "         -0.15460439,  0.2350164 , -0.22930086,  0.05683243,  0.06270903,\n",
       "          0.27151918,  0.15499303, -0.2090773 ,  0.11777627,  0.07041776,\n",
       "          0.24734443, -0.14570986, -0.28723863,  0.20858258,  0.15781316,\n",
       "          0.13436013,  0.2910751 ,  0.04534599, -0.17108628,  0.06223217,\n",
       "         -0.2979263 ,  0.20601177, -0.20674409,  0.26863086, -0.00260961,\n",
       "          0.04387724,  0.01277149,  0.05516076,  0.09078968],\n",
       "        [-0.26768792, -0.0448876 , -0.26453143,  0.18905136,  0.17473191,\n",
       "          0.19812211, -0.20874196,  0.11617744,  0.25044334, -0.17721695,\n",
       "          0.24020624,  0.11316845, -0.02480137,  0.08954158,  0.09493545,\n",
       "         -0.12259015, -0.11640683, -0.14063235, -0.14549303,  0.12805322,\n",
       "          0.14700297,  0.06890357, -0.09342839, -0.2962553 , -0.16564062,\n",
       "         -0.0066652 ,  0.16851449, -0.02089775,  0.13559002,  0.08832127,\n",
       "          0.16280448,  0.14060315,  0.03470609,  0.00837076, -0.2468225 ,\n",
       "          0.12210819, -0.21267791, -0.04787934,  0.22341013, -0.16067834,\n",
       "          0.24469942, -0.00140846,  0.00985023,  0.10180101, -0.09324445,\n",
       "          0.02659911, -0.01113483,  0.02769864,  0.27396297,  0.00965267,\n",
       "          0.04771352, -0.21943694,  0.12712428,  0.20215118, -0.05550538,\n",
       "          0.21847945, -0.19376355,  0.06997177,  0.24029207,  0.16227272,\n",
       "         -0.08909789, -0.2733845 , -0.04872781,  0.2674263 ]],\n",
       "       dtype=float32)>,\n",
       " <tf.Variable 'dense_2/bias:0' shape=(64,) dtype=float32, numpy=\n",
       " array([0., 0., 0., 0., 0., 0., 0., 0., 0., 0., 0., 0., 0., 0., 0., 0., 0.,\n",
       "        0., 0., 0., 0., 0., 0., 0., 0., 0., 0., 0., 0., 0., 0., 0., 0., 0.,\n",
       "        0., 0., 0., 0., 0., 0., 0., 0., 0., 0., 0., 0., 0., 0., 0., 0., 0.,\n",
       "        0., 0., 0., 0., 0., 0., 0., 0., 0., 0., 0., 0., 0.], dtype=float32)>,\n",
       " <tf.Variable 'dense_3/kernel:0' shape=(64, 10) dtype=float32, numpy=\n",
       " array([[ 2.56009966e-01, -1.03970170e-02,  9.07148719e-02,\n",
       "         -8.09796453e-02,  5.88642955e-02, -2.76437402e-02,\n",
       "          2.44957596e-01, -2.29050666e-01, -1.16570413e-01,\n",
       "         -9.25738066e-02],\n",
       "        [ 2.79376298e-01,  1.14970803e-01, -3.80302966e-02,\n",
       "          2.65789598e-01,  1.10872477e-01, -2.30163082e-01,\n",
       "         -2.03484595e-02,  1.66220963e-02, -1.13675490e-01,\n",
       "         -1.53416798e-01],\n",
       "        [-2.43163705e-01, -1.11296594e-01, -3.65067422e-02,\n",
       "          2.18245834e-01,  1.95016563e-01,  1.63794726e-01,\n",
       "          9.36355293e-02, -1.48260891e-02,  1.33814991e-01,\n",
       "          2.82415658e-01],\n",
       "        [ 1.69209570e-01, -1.73786044e-01,  1.98625356e-01,\n",
       "         -9.63606536e-02, -5.04074246e-02,  2.23903269e-01,\n",
       "         -2.12236300e-01,  1.63853049e-01,  2.81155139e-01,\n",
       "          4.85445559e-02],\n",
       "        [-8.80941451e-02,  1.68867201e-01,  7.28262365e-02,\n",
       "         -1.41033635e-01,  1.48558468e-01, -2.52804279e-01,\n",
       "          1.67872369e-01, -1.27512574e-01, -1.54649913e-02,\n",
       "         -2.09743202e-01],\n",
       "        [ 2.25042105e-02, -1.20215520e-01,  1.85748428e-01,\n",
       "         -4.05092686e-02,  1.66568011e-01, -2.55983412e-01,\n",
       "          4.78993952e-02, -7.58383423e-02,  4.98529077e-02,\n",
       "          1.22550964e-01],\n",
       "        [ 5.32062352e-02, -1.34623349e-01, -2.44076476e-01,\n",
       "         -7.34922290e-02,  2.39190549e-01,  2.46478409e-01,\n",
       "          1.87156916e-01,  8.54701102e-02,  2.51203269e-01,\n",
       "          9.83840227e-03],\n",
       "        [-2.21029162e-01,  9.20124948e-02, -6.29371107e-02,\n",
       "         -7.34457225e-02,  8.63839388e-02, -7.90999234e-02,\n",
       "         -2.24371612e-01, -2.47683689e-01, -2.03408957e-01,\n",
       "          2.21400648e-01],\n",
       "        [ 1.99399292e-01, -2.78447688e-01, -2.48000056e-01,\n",
       "         -2.28054792e-01,  1.57576025e-01, -2.36942425e-01,\n",
       "          2.65941292e-01,  9.04225409e-02,  1.13691926e-01,\n",
       "         -1.89387143e-01],\n",
       "        [ 2.55962908e-02, -2.62270868e-01, -2.68136501e-01,\n",
       "         -1.34611741e-01, -3.90130579e-02,  2.00342268e-01,\n",
       "          1.73804700e-01,  2.45704025e-01, -1.39085487e-01,\n",
       "         -1.89365357e-01],\n",
       "        [-3.36451530e-02, -2.83081681e-01,  4.53883111e-02,\n",
       "          7.35301673e-02, -1.79919541e-01, -6.96146786e-02,\n",
       "         -1.99501529e-01,  1.68846905e-01, -5.25303930e-02,\n",
       "          1.87136620e-01],\n",
       "        [ 2.09586650e-01,  2.17398435e-01,  4.26900685e-02,\n",
       "         -1.51137561e-01, -2.11458087e-01,  2.32737333e-01,\n",
       "         -1.70886159e-01, -9.75102186e-04,  9.32793617e-02,\n",
       "         -2.87360847e-02],\n",
       "        [ 1.37879521e-01, -9.92417336e-03,  2.27961153e-01,\n",
       "         -1.72626823e-01,  2.69427031e-01, -1.17911562e-01,\n",
       "          1.77560538e-01, -1.53906643e-02,  5.55113852e-02,\n",
       "          2.62226075e-01],\n",
       "        [-1.65007114e-02,  7.40682781e-02,  1.99650764e-01,\n",
       "         -2.33713552e-01,  1.26208633e-01,  1.53256804e-01,\n",
       "          7.20085800e-02,  2.76768953e-01,  1.75302535e-01,\n",
       "         -1.05658740e-01],\n",
       "        [ 2.58897543e-02, -1.46384925e-01,  6.09576702e-04,\n",
       "         -4.54880595e-02,  1.46189123e-01,  2.17222661e-01,\n",
       "          1.49053097e-01, -3.22266817e-02,  2.08889782e-01,\n",
       "         -1.82788998e-01],\n",
       "        [ 1.37362599e-01, -1.73435509e-02, -1.72468454e-01,\n",
       "         -1.77967399e-01,  2.15510339e-01,  8.81874263e-02,\n",
       "         -2.95208097e-02,  1.94161505e-01,  2.58271962e-01,\n",
       "          5.74892759e-03],\n",
       "        [ 3.48376036e-02,  2.34255821e-01, -1.93322405e-01,\n",
       "          1.13886029e-01, -2.43173897e-01, -1.39824733e-01,\n",
       "         -5.40758222e-02, -1.26306459e-01,  4.76866961e-02,\n",
       "         -9.39569026e-02],\n",
       "        [-8.82952362e-02, -6.18088543e-02, -5.79048246e-02,\n",
       "          1.52873963e-01,  7.13892281e-02,  8.30093026e-03,\n",
       "          4.36774492e-02,  2.10209340e-01,  1.63995832e-01,\n",
       "         -2.72905707e-01],\n",
       "        [ 2.23003179e-01, -5.59682250e-02, -6.13088459e-02,\n",
       "          1.01392597e-01,  2.03610122e-01,  7.17965662e-02,\n",
       "          8.73592496e-02,  2.16544420e-01, -6.71890676e-02,\n",
       "          6.10973835e-02],\n",
       "        [-1.06801793e-01, -1.95217729e-02,  1.40950531e-01,\n",
       "          3.95220220e-02, -1.25592068e-01, -1.43444717e-01,\n",
       "         -2.81175554e-01, -6.19826466e-02, -1.52421623e-01,\n",
       "         -2.31887609e-01],\n",
       "        [ 1.13932669e-01, -7.68439770e-02,  2.66979069e-01,\n",
       "          1.38598114e-01,  6.18167222e-02, -3.04818153e-04,\n",
       "         -1.82466596e-01,  2.28684276e-01,  2.51297265e-01,\n",
       "         -1.56769648e-01],\n",
       "        [-1.75049245e-01, -1.41416669e-01, -1.30549371e-02,\n",
       "          1.75764859e-02,  2.27234274e-01,  2.83318669e-01,\n",
       "         -1.88354254e-02, -1.09387830e-01,  1.46973044e-01,\n",
       "         -1.09827951e-01],\n",
       "        [ 1.29571855e-02, -1.95295468e-01, -5.23045212e-02,\n",
       "          8.09807181e-02,  7.08061457e-03,  2.39592791e-03,\n",
       "          2.44550794e-01, -1.55278519e-01,  2.56890208e-01,\n",
       "          2.44979948e-01],\n",
       "        [-2.47746155e-01, -1.06672063e-01, -2.61849433e-01,\n",
       "          2.22599715e-01,  1.33501619e-01,  8.51771533e-02,\n",
       "          1.62311643e-01,  1.73685074e-01,  2.01841325e-01,\n",
       "          1.72331512e-01],\n",
       "        [ 1.28815025e-01,  1.74017817e-01,  4.79215980e-02,\n",
       "         -2.06738293e-01, -1.80203453e-01,  2.22860008e-01,\n",
       "          8.53692889e-02,  1.86558545e-01,  2.67354876e-01,\n",
       "         -2.08982378e-01],\n",
       "        [ 1.95038378e-01,  1.09445244e-01, -2.42010072e-01,\n",
       "          5.16502857e-02,  2.84445375e-01,  6.92583323e-02,\n",
       "         -1.10082030e-02, -8.36589932e-03,  9.02116299e-05,\n",
       "         -1.56285048e-01],\n",
       "        [ 9.97274220e-02,  2.57863194e-01,  5.87788224e-02,\n",
       "          5.97051084e-02,  1.41318500e-01,  1.91765636e-01,\n",
       "          3.11887264e-02,  1.13357097e-01,  2.44686931e-01,\n",
       "          2.21836299e-01],\n",
       "        [-2.40004763e-01, -1.40627518e-01,  1.92043245e-01,\n",
       "         -7.83756822e-02, -2.27538347e-02,  5.95850050e-02,\n",
       "          6.39108419e-02, -3.57007533e-02,  1.11542284e-01,\n",
       "         -2.14552745e-01],\n",
       "        [-6.78273588e-02, -2.31365398e-01,  6.37184381e-02,\n",
       "         -5.83288074e-03, -1.80458784e-01,  1.22095108e-01,\n",
       "          2.58931845e-01, -1.55373365e-01,  2.78331131e-01,\n",
       "          1.04447871e-01],\n",
       "        [-2.36767814e-01,  4.88228202e-02, -3.16186547e-02,\n",
       "         -4.11986113e-02,  1.78289175e-01,  4.82999384e-02,\n",
       "         -6.05827570e-03,  2.63426811e-01, -1.46818459e-01,\n",
       "          2.22330719e-01],\n",
       "        [ 2.16231138e-01,  4.56272364e-02, -9.48736072e-03,\n",
       "          2.46168941e-01,  6.87033236e-02,  2.38201022e-03,\n",
       "          6.78788722e-02,  6.58936799e-02,  1.28249794e-01,\n",
       "          2.42085844e-01],\n",
       "        [ 2.61588603e-01, -1.42372817e-01, -2.10722297e-01,\n",
       "          2.06822425e-01, -1.91039979e-01, -1.07615843e-01,\n",
       "         -5.54899424e-02, -2.22809613e-01,  9.58670378e-02,\n",
       "         -6.66908324e-02],\n",
       "        [-2.08990455e-01, -7.36003071e-02,  1.28276199e-01,\n",
       "          1.79199368e-01, -8.71484578e-02, -2.78648853e-01,\n",
       "         -2.58570254e-01,  1.28980130e-01,  4.53167558e-02,\n",
       "         -2.29047596e-01],\n",
       "        [-9.30008888e-02,  1.68897480e-01,  3.82857621e-02,\n",
       "         -1.73963159e-01, -2.01251298e-01,  2.74923444e-02,\n",
       "         -1.18364722e-01,  1.67900264e-01, -1.66850895e-01,\n",
       "          1.49724603e-01],\n",
       "        [ 4.44548428e-02,  1.57804757e-01, -1.59908488e-01,\n",
       "         -2.01391637e-01,  1.89013541e-01, -1.59172103e-01,\n",
       "         -2.53625691e-01,  3.17671895e-03,  6.09290898e-02,\n",
       "         -1.97012186e-01],\n",
       "        [ 8.23526382e-02,  1.05695128e-01, -1.45187557e-01,\n",
       "          2.19779640e-01, -2.30855420e-01, -2.31571376e-01,\n",
       "          1.45343572e-01,  2.71396071e-01, -1.27500489e-01,\n",
       "          1.02853090e-01],\n",
       "        [-1.65873766e-01, -2.50632256e-01,  1.66339815e-01,\n",
       "          1.16901308e-01,  3.39951217e-02, -2.08337501e-01,\n",
       "          2.22202092e-01, -1.15869671e-01, -6.49561286e-02,\n",
       "         -2.35459596e-01],\n",
       "        [ 2.38507479e-01, -2.40647793e-03, -1.94238707e-01,\n",
       "         -1.58073992e-01,  7.40095377e-02,  1.67274922e-01,\n",
       "         -7.17729330e-03,  2.82344431e-01,  7.16379285e-03,\n",
       "         -2.39579767e-01],\n",
       "        [-2.03780591e-01,  4.58731949e-02,  7.69579709e-02,\n",
       "         -9.63716507e-02, -9.61485058e-02, -1.77161813e-01,\n",
       "         -2.38941208e-01,  5.16493320e-02, -2.34408736e-01,\n",
       "          1.56737655e-01],\n",
       "        [ 1.04985774e-01, -1.80613577e-01,  2.79583603e-01,\n",
       "          1.14134759e-01, -2.07436383e-02, -1.90809906e-01,\n",
       "          6.94208443e-02,  1.91341817e-01,  2.31236905e-01,\n",
       "          2.32184678e-01],\n",
       "        [-1.59412086e-01,  9.39767957e-02,  1.99197322e-01,\n",
       "          2.56400496e-01, -1.47673056e-01,  1.64477348e-01,\n",
       "          3.02287042e-02, -1.40962005e-01,  2.26550549e-01,\n",
       "         -8.17556083e-02],\n",
       "        [-1.93997771e-01, -1.81571826e-01,  1.95915431e-01,\n",
       "         -8.10192227e-02, -1.30373970e-01,  7.27930963e-02,\n",
       "          1.56928360e-01,  2.45402306e-01,  5.29139042e-02,\n",
       "          1.88956857e-01],\n",
       "        [-2.43048295e-01,  2.72651643e-01,  1.03115439e-02,\n",
       "         -1.41817614e-01,  1.96059018e-01,  1.96780533e-01,\n",
       "          2.60943323e-01,  2.53822476e-01, -1.18221954e-01,\n",
       "         -1.96730703e-01],\n",
       "        [-2.84179240e-01, -5.43016195e-03, -3.68292779e-02,\n",
       "          1.91270322e-01, -5.18595129e-02, -1.56348452e-01,\n",
       "          2.43935317e-01, -1.86216652e-01,  7.42805600e-02,\n",
       "          1.76856995e-01],\n",
       "        [ 1.19619727e-01, -1.68729424e-02, -1.85655683e-01,\n",
       "         -7.60572106e-02,  1.41849041e-01, -2.41192818e-01,\n",
       "          6.42736256e-02,  6.37470186e-02,  1.67556614e-01,\n",
       "         -1.72360703e-01],\n",
       "        [ 2.40062475e-02,  4.64670062e-02, -1.80969104e-01,\n",
       "         -2.17805773e-01, -1.71975166e-01,  2.14896530e-01,\n",
       "         -7.76225924e-02,  2.00304598e-01,  3.36471200e-03,\n",
       "         -2.57970095e-01],\n",
       "        [-1.86345845e-01,  2.10847080e-01,  2.72304416e-02,\n",
       "         -2.13927478e-01, -2.20761597e-02, -1.88756108e-01,\n",
       "          7.35642612e-02,  1.98517948e-01, -1.63056985e-01,\n",
       "          4.65837717e-02],\n",
       "        [-1.33902833e-01,  2.02811062e-02,  1.50128812e-01,\n",
       "          2.00166702e-02,  6.08313084e-02, -2.56950885e-01,\n",
       "         -1.22185931e-01,  1.29719079e-02,  1.91835433e-01,\n",
       "         -7.48848915e-03],\n",
       "        [-2.72046149e-01, -1.20107636e-01,  1.27687991e-01,\n",
       "          1.60085469e-01, -1.72970146e-01,  2.68120140e-01,\n",
       "          1.09179527e-01,  9.03244913e-02,  1.41338736e-01,\n",
       "         -2.18726635e-01],\n",
       "        [ 2.76463956e-01,  1.26834691e-01, -6.20101541e-02,\n",
       "         -8.70867372e-02,  1.36280775e-01, -2.42731735e-01,\n",
       "         -1.50960103e-01, -9.48265046e-02, -1.68064237e-02,\n",
       "          7.46172965e-02],\n",
       "        [-2.72517860e-01,  2.58587927e-01, -1.32695287e-01,\n",
       "          1.73622072e-02,  1.24083698e-01,  1.24857515e-01,\n",
       "         -1.61182225e-01, -2.02056170e-02, -3.43469679e-02,\n",
       "         -2.72881329e-01],\n",
       "        [ 9.07765031e-02,  2.20502913e-02, -2.71712750e-01,\n",
       "         -6.34067655e-02,  2.56169111e-01,  1.54311508e-01,\n",
       "         -6.35884255e-02, -2.63949931e-02,  1.89199090e-01,\n",
       "         -3.35195661e-03],\n",
       "        [-4.24739867e-02, -2.83892602e-01,  5.07858396e-03,\n",
       "          2.69931823e-01,  1.34278536e-01, -8.19741488e-02,\n",
       "         -7.64645487e-02,  1.46866053e-01, -1.14845216e-01,\n",
       "          1.32865906e-01],\n",
       "        [-1.56557888e-01,  4.29540873e-02, -6.41539544e-02,\n",
       "          1.90896332e-01, -1.90802425e-01, -1.19361475e-01,\n",
       "          1.80101633e-01,  2.16314107e-01,  8.23221505e-02,\n",
       "          1.92045003e-01],\n",
       "        [ 1.06891215e-01,  1.83590859e-01, -1.33525640e-01,\n",
       "         -1.39318958e-01, -1.12827286e-01, -6.75603747e-03,\n",
       "          2.72836536e-01,  2.77501732e-01,  2.68209606e-01,\n",
       "          1.28952771e-01],\n",
       "        [ 2.76703507e-01, -8.42402875e-02,  2.01126993e-01,\n",
       "          2.37504691e-01, -2.20219374e-01,  2.30270773e-01,\n",
       "          7.58939385e-02, -2.47096255e-01,  7.12028146e-03,\n",
       "         -5.91601580e-02],\n",
       "        [ 1.99108183e-01,  1.87583119e-01, -4.41308767e-02,\n",
       "          2.70228475e-01, -1.95889175e-02,  2.80202627e-02,\n",
       "         -1.39856309e-01,  2.68141180e-01,  1.24391913e-02,\n",
       "          6.76355660e-02],\n",
       "        [-2.07782090e-02,  2.76239485e-01,  5.03873825e-03,\n",
       "          1.23309374e-01,  5.32889068e-02,  1.54137582e-01,\n",
       "          2.68841475e-01,  7.16432631e-02,  9.64123309e-02,\n",
       "         -2.47036636e-01],\n",
       "        [-8.37163925e-02, -1.45032704e-01, -2.07788348e-01,\n",
       "          1.81033194e-01, -1.01036519e-01, -2.25768387e-02,\n",
       "          2.69742221e-01, -2.83600748e-01,  2.28439867e-02,\n",
       "          9.60412621e-03],\n",
       "        [ 1.63946748e-02, -9.78451222e-02,  2.51016408e-01,\n",
       "         -7.15777576e-02,  8.73087347e-02, -1.22797191e-02,\n",
       "         -2.53680944e-02,  2.65958458e-01, -1.82976380e-01,\n",
       "          8.89938772e-02],\n",
       "        [ 9.98637974e-02, -1.16938040e-01, -4.76308316e-02,\n",
       "         -1.59939170e-01, -2.01738894e-01, -4.23847735e-02,\n",
       "         -1.81781054e-01,  1.70448422e-02, -1.43321767e-01,\n",
       "          2.61087090e-01],\n",
       "        [ 2.26449698e-01,  2.40746766e-01,  1.52908385e-01,\n",
       "          2.92144418e-02,  2.78759390e-01, -1.88852668e-01,\n",
       "          7.98477232e-02,  2.79016942e-01, -2.29624450e-01,\n",
       "          1.51253521e-01],\n",
       "        [ 1.95667833e-01,  1.12086266e-01,  1.51026487e-01,\n",
       "          2.19204336e-01,  3.51681709e-02, -2.36845672e-01,\n",
       "          1.90575808e-01,  9.82497334e-02,  2.67209500e-01,\n",
       "          5.43399751e-02],\n",
       "        [-6.10298216e-02, -3.83751094e-02,  9.80895162e-02,\n",
       "          9.83745754e-02, -2.24839032e-01,  1.02666527e-01,\n",
       "         -1.66897058e-01, -3.37128341e-02,  2.77123541e-01,\n",
       "          1.36028171e-01]], dtype=float32)>,\n",
       " <tf.Variable 'dense_3/bias:0' shape=(10,) dtype=float32, numpy=array([0., 0., 0., 0., 0., 0., 0., 0., 0., 0.], dtype=float32)>]"
      ]
     },
     "execution_count": 3,
     "metadata": {},
     "output_type": "execute_result"
    }
   ],
   "source": [
    "model.build(input_shape=(None, 3))\n",
    "model.weights"
   ]
  },
  {
   "cell_type": "code",
   "execution_count": 4,
   "id": "a7db85bf-1958-4ac5-b423-d3a26e60931f",
   "metadata": {},
   "outputs": [
    {
     "name": "stdout",
     "output_type": "stream",
     "text": [
      "Model: \"sequential_1\"\n",
      "_________________________________________________________________\n",
      " Layer (type)                Output Shape              Param #   \n",
      "=================================================================\n",
      " dense_2 (Dense)             (None, 64)                256       \n",
      "                                                                 \n",
      " dense_3 (Dense)             (None, 10)                650       \n",
      "                                                                 \n",
      "=================================================================\n",
      "Total params: 906\n",
      "Trainable params: 906\n",
      "Non-trainable params: 0\n",
      "_________________________________________________________________\n"
     ]
    }
   ],
   "source": [
    "model.summary()"
   ]
  },
  {
   "cell_type": "code",
   "execution_count": 5,
   "id": "67f1fc7a-b8c9-4413-9246-c19a2d189920",
   "metadata": {},
   "outputs": [
    {
     "name": "stdout",
     "output_type": "stream",
     "text": [
      "Model: \"my_example_model\"\n",
      "_________________________________________________________________\n",
      " Layer (type)                Output Shape              Param #   \n",
      "=================================================================\n",
      " my_first_layer (Dense)      (None, 64)                256       \n",
      "                                                                 \n",
      " my_last_layer (Dense)       (None, 10)                650       \n",
      "                                                                 \n",
      "=================================================================\n",
      "Total params: 906\n",
      "Trainable params: 906\n",
      "Non-trainable params: 0\n",
      "_________________________________________________________________\n"
     ]
    }
   ],
   "source": [
    "model = keras.Sequential(name=\"my_example_model\")\n",
    "model.add(layers.Dense(64, activation=\"relu\", name=\"my_first_layer\"))\n",
    "model.add(layers.Dense(10, activation=\"softmax\", name=\"my_last_layer\"))\n",
    "model.build((None, 3))\n",
    "model.summary()"
   ]
  },
  {
   "cell_type": "code",
   "execution_count": 6,
   "id": "3adecda8-8832-4186-877a-c902486ea395",
   "metadata": {},
   "outputs": [],
   "source": [
    "model = keras.Sequential()\n",
    "model.add(keras.Input(shape=(3,)))\n",
    "model.add(layers.Dense(64, activation=\"relu\"))"
   ]
  },
  {
   "cell_type": "code",
   "execution_count": 7,
   "id": "5235b892-ae29-4ba4-8eb5-adecfb533412",
   "metadata": {},
   "outputs": [
    {
     "name": "stdout",
     "output_type": "stream",
     "text": [
      "Model: \"sequential_2\"\n",
      "_________________________________________________________________\n",
      " Layer (type)                Output Shape              Param #   \n",
      "=================================================================\n",
      " dense_4 (Dense)             (None, 64)                256       \n",
      "                                                                 \n",
      "=================================================================\n",
      "Total params: 256\n",
      "Trainable params: 256\n",
      "Non-trainable params: 0\n",
      "_________________________________________________________________\n"
     ]
    }
   ],
   "source": [
    "model.summary()"
   ]
  },
  {
   "cell_type": "code",
   "execution_count": 8,
   "id": "5c66b26d-36d9-45c5-a23c-2db1b83fd447",
   "metadata": {},
   "outputs": [
    {
     "name": "stdout",
     "output_type": "stream",
     "text": [
      "Model: \"sequential_2\"\n",
      "_________________________________________________________________\n",
      " Layer (type)                Output Shape              Param #   \n",
      "=================================================================\n",
      " dense_4 (Dense)             (None, 64)                256       \n",
      "                                                                 \n",
      " dense_5 (Dense)             (None, 10)                650       \n",
      "                                                                 \n",
      "=================================================================\n",
      "Total params: 906\n",
      "Trainable params: 906\n",
      "Non-trainable params: 0\n",
      "_________________________________________________________________\n"
     ]
    }
   ],
   "source": [
    "model.add(layers.Dense(10, activation=\"softmax\"))\n",
    "model.summary()"
   ]
  },
  {
   "cell_type": "code",
   "execution_count": 9,
   "id": "b82769f5-3378-46b9-b43e-98bc12b81505",
   "metadata": {},
   "outputs": [],
   "source": [
    "inputs = keras.Input(shape=(3,), name=\"my_input\")\n",
    "features = layers.Dense(64, activation=\"relu\")(inputs)\n",
    "outputs = layers.Dense(10, activation=\"softmax\")(features)\n",
    "model = keras.Model(inputs=inputs, outputs=outputs)"
   ]
  },
  {
   "cell_type": "code",
   "execution_count": 10,
   "id": "59e64f76-d328-48c8-9862-cea9945a06c5",
   "metadata": {},
   "outputs": [],
   "source": [
    "inputs = keras.Input(shape=(3,), name=\"my_input\")"
   ]
  },
  {
   "cell_type": "code",
   "execution_count": 11,
   "id": "d9366cce-887b-4988-bae3-bd7b78ea1ce6",
   "metadata": {},
   "outputs": [
    {
     "data": {
      "text/plain": [
       "TensorShape([None, 3])"
      ]
     },
     "execution_count": 11,
     "metadata": {},
     "output_type": "execute_result"
    }
   ],
   "source": [
    "inputs.shape"
   ]
  },
  {
   "cell_type": "code",
   "execution_count": 12,
   "id": "0b4e4f6f-63e1-4460-8081-caf7e6f66d0d",
   "metadata": {},
   "outputs": [
    {
     "data": {
      "text/plain": [
       "tf.float32"
      ]
     },
     "execution_count": 12,
     "metadata": {},
     "output_type": "execute_result"
    }
   ],
   "source": [
    "inputs.dtype"
   ]
  },
  {
   "cell_type": "code",
   "execution_count": 13,
   "id": "0c57f480-141e-471e-895b-bbcaba25b31a",
   "metadata": {},
   "outputs": [],
   "source": [
    "features = layers.Dense(64, activation=\"relu\")(inputs)"
   ]
  },
  {
   "cell_type": "code",
   "execution_count": 14,
   "id": "8c4f2980-c417-4b14-ab1a-2b3cc6368862",
   "metadata": {},
   "outputs": [
    {
     "data": {
      "text/plain": [
       "TensorShape([None, 64])"
      ]
     },
     "execution_count": 14,
     "metadata": {},
     "output_type": "execute_result"
    }
   ],
   "source": [
    "features.shape"
   ]
  },
  {
   "cell_type": "code",
   "execution_count": 15,
   "id": "1ce40b1e-8b66-4ed9-a71b-1399edfe554d",
   "metadata": {},
   "outputs": [],
   "source": [
    "outputs = layers.Dense(10, activation=\"softmax\")(features)\n",
    "model = keras.Model(inputs=inputs, outputs=outputs)"
   ]
  },
  {
   "cell_type": "code",
   "execution_count": 16,
   "id": "c8a8b863-3c4b-4395-ad41-53d414a10598",
   "metadata": {},
   "outputs": [
    {
     "name": "stdout",
     "output_type": "stream",
     "text": [
      "Model: \"model_1\"\n",
      "_________________________________________________________________\n",
      " Layer (type)                Output Shape              Param #   \n",
      "=================================================================\n",
      " my_input (InputLayer)       [(None, 3)]               0         \n",
      "                                                                 \n",
      " dense_8 (Dense)             (None, 64)                256       \n",
      "                                                                 \n",
      " dense_9 (Dense)             (None, 10)                650       \n",
      "                                                                 \n",
      "=================================================================\n",
      "Total params: 906\n",
      "Trainable params: 906\n",
      "Non-trainable params: 0\n",
      "_________________________________________________________________\n"
     ]
    }
   ],
   "source": [
    "model.summary()"
   ]
  },
  {
   "cell_type": "code",
   "execution_count": 17,
   "id": "992440ce-3218-4eb8-a544-41df4fd40c51",
   "metadata": {},
   "outputs": [],
   "source": [
    "vocabulary_size = 10000\n",
    "num_tags = 100\n",
    "num_departments = 4\n",
    "\n",
    "title = keras.Input(shape=(vocabulary_size,), name=\"title\")\n",
    "text_body = keras.Input(shape=(vocabulary_size,), name=\"text_body\")\n",
    "tags = keras.Input(shape=(num_tags,), name=\"tags\")\n",
    "\n",
    "features = layers.Concatenate()([title, text_body, tags])\n",
    "features = layers.Dense(64, activation=\"relu\")(features)\n",
    "\n",
    "priority = layers.Dense(1, activation=\"sigmoid\", name=\"priority\")(features)\n",
    "department = layers.Dense(\n",
    "    num_departments, activation=\"softmax\", name=\"department\")(features)\n",
    "\n",
    "model = keras.Model(inputs=[title, text_body, tags], outputs=[priority, department])"
   ]
  },
  {
   "cell_type": "code",
   "execution_count": 18,
   "id": "d885dc50-97c1-4369-886e-be2ba4491771",
   "metadata": {},
   "outputs": [
    {
     "name": "stdout",
     "output_type": "stream",
     "text": [
      "40/40 [==============================] - 1s 13ms/step - loss: 29.3647 - priority_loss: 0.3179 - department_loss: 29.0467 - priority_mean_absolute_error: 0.4845 - department_accuracy: 0.2500\n",
      "40/40 [==============================] - 0s 4ms/step - loss: 9.9655 - priority_loss: 0.3300 - department_loss: 9.6355 - priority_mean_absolute_error: 0.4974 - department_accuracy: 0.6086\n",
      "40/40 [==============================] - 0s 4ms/step\n"
     ]
    }
   ],
   "source": [
    "import numpy as np\n",
    "\n",
    "num_samples = 1280\n",
    "\n",
    "title_data = np.random.randint(0, 2, size=(num_samples, vocabulary_size))\n",
    "text_body_data = np.random.randint(0, 2, size=(num_samples, vocabulary_size))\n",
    "tags_data = np.random.randint(0, 2, size=(num_samples, num_tags))\n",
    "\n",
    "priority_data = np.random.random(size=(num_samples, 1))\n",
    "department_data = np.random.randint(0, 2, size=(num_samples, num_departments))\n",
    "\n",
    "model.compile(optimizer=\"rmsprop\",\n",
    "              loss=[\"mean_squared_error\", \"categorical_crossentropy\"],\n",
    "              metrics=[[\"mean_absolute_error\"], [\"accuracy\"]])\n",
    "model.fit([title_data, text_body_data, tags_data],\n",
    "          [priority_data, department_data],\n",
    "          epochs=1)\n",
    "model.evaluate([title_data, text_body_data, tags_data],\n",
    "               [priority_data, department_data])\n",
    "priority_preds, department_preds = model.predict([title_data, text_body_data, tags_data])"
   ]
  },
  {
   "cell_type": "code",
   "execution_count": 19,
   "id": "e0db462b-9394-4d62-96c5-133a9cdc259b",
   "metadata": {},
   "outputs": [
    {
     "name": "stdout",
     "output_type": "stream",
     "text": [
      "40/40 [==============================] - 1s 13ms/step - loss: 33.2796 - priority_loss: 0.3300 - department_loss: 32.9496 - priority_mean_absolute_error: 0.4974 - department_accuracy: 0.2648\n",
      "40/40 [==============================] - 0s 4ms/step - loss: 30.7653 - priority_loss: 0.3300 - department_loss: 30.4353 - priority_mean_absolute_error: 0.4974 - department_accuracy: 0.0641\n",
      "40/40 [==============================] - 0s 4ms/step\n"
     ]
    }
   ],
   "source": [
    "model.compile(optimizer=\"rmsprop\",\n",
    "              loss={\"priority\": \"mean_squared_error\", \"department\": \"categorical_crossentropy\"},\n",
    "              metrics={\"priority\": [\"mean_absolute_error\"], \"department\": [\"accuracy\"]})\n",
    "model.fit({\"title\": title_data, \"text_body\": text_body_data, \"tags\": tags_data},\n",
    "          {\"priority\": priority_data, \"department\": department_data},\n",
    "          epochs=1)\n",
    "model.evaluate({\"title\": title_data, \"text_body\": text_body_data, \"tags\": tags_data},\n",
    "               {\"priority\": priority_data, \"department\": department_data})\n",
    "priority_preds, department_preds = model.predict(\n",
    "    {\"title\": title_data, \"text_body\": text_body_data, \"tags\": tags_data})"
   ]
  },
  {
   "cell_type": "code",
   "execution_count": 20,
   "id": "cf19a58c-b9d9-4eee-930d-a98a0ab071af",
   "metadata": {},
   "outputs": [
    {
     "data": {
      "image/png": "[encoded data removed]",
      "text/plain": [
       "<IPython.core.display.Image object>"
      ]
     },
     "execution_count": 20,
     "metadata": {},
     "output_type": "execute_result"
    }
   ],
   "source": [
    "keras.utils.plot_model(model, \"ticket_classifier.png\")"
   ]
  },
  {
   "cell_type": "code",
   "execution_count": 21,
   "id": "fbf66ae2-f9c2-4b32-82b8-1a5441c21601",
   "metadata": {},
   "outputs": [
    {
     "data": {
      "image/png": "[encoded data removed]",
      "text/plain": [
       "<IPython.core.display.Image object>"
      ]
     },
     "execution_count": 21,
     "metadata": {},
     "output_type": "execute_result"
    }
   ],
   "source": [
    "keras.utils.plot_model(model, \"ticket_classifier_with_shape_info.png\", show_shapes=True)"
   ]
  },
  {
   "cell_type": "code",
   "execution_count": 22,
   "id": "69301b5f-dcb0-4e99-8dd6-26ad3c5e76c6",
   "metadata": {},
   "outputs": [
    {
     "data": {
      "text/plain": [
       "[<keras.engine.input_layer.InputLayer at 0x28b248b01c0>,\n",
       " <keras.engine.input_layer.InputLayer at 0x28b248b0160>,\n",
       " <keras.engine.input_layer.InputLayer at 0x28b248a3190>,\n",
       " <keras.layers.merging.concatenate.Concatenate at 0x28b248a33d0>,\n",
       " <keras.layers.core.dense.Dense at 0x28b248a3a60>,\n",
       " <keras.layers.core.dense.Dense at 0x28b248a3730>,\n",
       " <keras.layers.core.dense.Dense at 0x28b248aff40>]"
      ]
     },
     "execution_count": 22,
     "metadata": {},
     "output_type": "execute_result"
    }
   ],
   "source": [
    "model.layers"
   ]
  },
  {
   "cell_type": "code",
   "execution_count": 23,
   "id": "8393e332-2123-4fd0-9f31-fb35491180f9",
   "metadata": {},
   "outputs": [
    {
     "data": {
      "text/plain": [
       "[<KerasTensor: shape=(None, 10000) dtype=float32 (created by layer 'title')>,\n",
       " <KerasTensor: shape=(None, 10000) dtype=float32 (created by layer 'text_body')>,\n",
       " <KerasTensor: shape=(None, 100) dtype=float32 (created by layer 'tags')>]"
      ]
     },
     "execution_count": 23,
     "metadata": {},
     "output_type": "execute_result"
    }
   ],
   "source": [
    "model.layers[3].input"
   ]
  },
  {
   "cell_type": "code",
   "execution_count": 24,
   "id": "160c0e7a-d0a9-4b6d-b30f-7259fbfc4c5b",
   "metadata": {},
   "outputs": [
    {
     "data": {
      "text/plain": [
       "<KerasTensor: shape=(None, 20100) dtype=float32 (created by layer 'concatenate')>"
      ]
     },
     "execution_count": 24,
     "metadata": {},
     "output_type": "execute_result"
    }
   ],
   "source": [
    "model.layers[3].output"
   ]
  },
  {
   "cell_type": "code",
   "execution_count": 25,
   "id": "8a871d24-4e16-449c-b984-bc80b3746aa8",
   "metadata": {},
   "outputs": [],
   "source": [
    "features = model.layers[4].output\n",
    "difficulty = layers.Dense(3, activation=\"softmax\", name=\"difficulty\")(features)\n",
    "\n",
    "new_model = keras.Model(\n",
    "    inputs=[title, text_body, tags],\n",
    "    outputs=[priority, department, difficulty])"
   ]
  },
  {
   "cell_type": "code",
   "execution_count": 26,
   "id": "5472c2c4-f6d0-4ec8-95cc-c746d20f015c",
   "metadata": {},
   "outputs": [
    {
     "data": {
      "image/png": "[encoded data removed]",
      "text/plain": [
       "<IPython.core.display.Image object>"
      ]
     },
     "execution_count": 26,
     "metadata": {},
     "output_type": "execute_result"
    }
   ],
   "source": [
    "keras.utils.plot_model(new_model, \"updated_ticket_classifier.png\", show_shapes=True)"
   ]
  },
  {
   "cell_type": "code",
   "execution_count": 27,
   "id": "f06439f2-808a-404b-a760-ae66a35fe4e3",
   "metadata": {},
   "outputs": [],
   "source": [
    "class CustomerTicketModel(keras.Model):\n",
    "\n",
    "    def __init__(self, num_departments):\n",
    "        super().__init__()\n",
    "        self.concat_layer = layers.Concatenate()\n",
    "        self.mixing_layer = layers.Dense(64, activation=\"relu\")\n",
    "        self.priority_scorer = layers.Dense(1, activation=\"sigmoid\")\n",
    "        self.department_classifier = layers.Dense(\n",
    "            num_departments, activation=\"softmax\")\n",
    "\n",
    "    def call(self, inputs):\n",
    "        title = inputs[\"title\"]\n",
    "        text_body = inputs[\"text_body\"]\n",
    "        tags = inputs[\"tags\"]\n",
    "\n",
    "        features = self.concat_layer([title, text_body, tags])\n",
    "        features = self.mixing_layer(features)\n",
    "        priority = self.priority_scorer(features)\n",
    "        department = self.department_classifier(features)\n",
    "        return priority, department"
   ]
  },
  {
   "cell_type": "code",
   "execution_count": 28,
   "id": "df41d503-0054-4328-84d8-d38135e85781",
   "metadata": {},
   "outputs": [],
   "source": [
    "model = CustomerTicketModel(num_departments=4)\n",
    "\n",
    "priority, department = model(\n",
    "    {\"title\": title_data, \"text_body\": text_body_data, \"tags\": tags_data})"
   ]
  },
  {
   "cell_type": "code",
   "execution_count": 29,
   "id": "8ffa7b4b-7e93-4cc2-b195-17e10e3632d6",
   "metadata": {},
   "outputs": [
    {
     "name": "stdout",
     "output_type": "stream",
     "text": [
      "40/40 [==============================] - 1s 12ms/step - loss: 19.2335 - output_1_loss: 0.3264 - output_2_loss: 18.9070 - output_1_mean_absolute_error: 0.4943 - output_2_accuracy: 0.2484\n",
      "40/40 [==============================] - 0s 4ms/step - loss: 5.8448 - output_1_loss: 0.3300 - output_2_loss: 5.5148 - output_1_mean_absolute_error: 0.4974 - output_2_accuracy: 0.0805\n",
      "40/40 [==============================] - 0s 4ms/step\n"
     ]
    }
   ],
   "source": [
    "model.compile(optimizer=\"rmsprop\",\n",
    "              loss=[\"mean_squared_error\", \"categorical_crossentropy\"],\n",
    "              metrics=[[\"mean_absolute_error\"], [\"accuracy\"]])\n",
    "model.fit({\"title\": title_data,\n",
    "           \"text_body\": text_body_data,\n",
    "           \"tags\": tags_data},\n",
    "          [priority_data, department_data],\n",
    "          epochs=1)\n",
    "model.evaluate({\"title\": title_data,\n",
    "                \"text_body\": text_body_data,\n",
    "                \"tags\": tags_data},\n",
    "               [priority_data, department_data])\n",
    "priority_preds, department_preds = model.predict({\"title\": title_data,\n",
    "                                                  \"text_body\": text_body_data,\n",
    "                                                  \"tags\": tags_data})"
   ]
  },
  {
   "cell_type": "code",
   "execution_count": 30,
   "id": "aab8d2f2-e43d-4b27-ad30-f232950142fb",
   "metadata": {},
   "outputs": [],
   "source": [
    "class Classifier(keras.Model):\n",
    "\n",
    "    def __init__(self, num_classes=2):\n",
    "        super().__init__()\n",
    "        if num_classes == 2:\n",
    "            num_units = 1\n",
    "            activation = \"sigmoid\"\n",
    "        else:\n",
    "            num_units = num_classes\n",
    "            activation = \"softmax\"\n",
    "        self.dense = layers.Dense(num_units, activation=activation)\n",
    "\n",
    "    def call(self, inputs):\n",
    "        return self.dense(inputs)\n",
    "\n",
    "inputs = keras.Input(shape=(3,))\n",
    "features = layers.Dense(64, activation=\"relu\")(inputs)\n",
    "outputs = Classifier(num_classes=10)(features)\n",
    "model = keras.Model(inputs=inputs, outputs=outputs)"
   ]
  },
  {
   "cell_type": "code",
   "execution_count": 31,
   "id": "e5f1e364-057d-4699-b287-97de9e7a8531",
   "metadata": {},
   "outputs": [],
   "source": [
    "inputs = keras.Input(shape=(64,))\n",
    "outputs = layers.Dense(1, activation=\"sigmoid\")(inputs)\n",
    "binary_classifier = keras.Model(inputs=inputs, outputs=outputs)\n",
    "\n",
    "class MyModel(keras.Model):\n",
    "\n",
    "    def __init__(self, num_classes=2):\n",
    "        super().__init__()\n",
    "        self.dense = layers.Dense(64, activation=\"relu\")\n",
    "        self.classifier = binary_classifier\n",
    "\n",
    "    def call(self, inputs):\n",
    "        features = self.dense(inputs)\n",
    "        return self.classifier(features)\n",
    "\n",
    "model = MyModel()"
   ]
  },
  {
   "cell_type": "code",
   "execution_count": 32,
   "id": "f57f1b8a-0f38-4377-b40c-5e5d87f922df",
   "metadata": {},
   "outputs": [
    {
     "name": "stdout",
     "output_type": "stream",
     "text": [
      "Epoch 1/3\n",
      "1563/1563 [==============================] - 8s 5ms/step - loss: 0.2968 - accuracy: 0.9114 - val_loss: 0.1489 - val_accuracy: 0.9599\n",
      "Epoch 2/3\n",
      "1563/1563 [==============================] - 8s 5ms/step - loss: 0.1633 - accuracy: 0.9538 - val_loss: 0.1355 - val_accuracy: 0.9633\n",
      "Epoch 3/3\n",
      "1563/1563 [==============================] - 8s 5ms/step - loss: 0.1377 - accuracy: 0.9631 - val_loss: 0.1149 - val_accuracy: 0.9706\n",
      "313/313 [==============================] - 1s 2ms/step - loss: 0.1075 - accuracy: 0.9711\n",
      "313/313 [==============================] - 0s 1ms/step\n"
     ]
    }
   ],
   "source": [
    "from tensorflow.keras.datasets import mnist\n",
    "\n",
    "def get_mnist_model():\n",
    "    inputs = keras.Input(shape=(28 * 28,))\n",
    "    features = layers.Dense(512, activation=\"relu\")(inputs)\n",
    "    features = layers.Dropout(0.5)(features)\n",
    "    outputs = layers.Dense(10, activation=\"softmax\")(features)\n",
    "    model = keras.Model(inputs, outputs)\n",
    "    return model\n",
    "\n",
    "(images, labels), (test_images, test_labels) = mnist.load_data()\n",
    "images = images.reshape((60000, 28 * 28)).astype(\"float32\") / 255\n",
    "test_images = test_images.reshape((10000, 28 * 28)).astype(\"float32\") / 255\n",
    "train_images, val_images = images[10000:], images[:10000]\n",
    "train_labels, val_labels = labels[10000:], labels[:10000]\n",
    "\n",
    "model = get_mnist_model()\n",
    "model.compile(optimizer=\"rmsprop\",\n",
    "              loss=\"sparse_categorical_crossentropy\",\n",
    "              metrics=[\"accuracy\"])\n",
    "model.fit(train_images, train_labels,\n",
    "          epochs=3,\n",
    "          validation_data=(val_images, val_labels))\n",
    "test_metrics = model.evaluate(test_images, test_labels)\n",
    "predictions = model.predict(test_images)"
   ]
  },
  {
   "cell_type": "code",
   "execution_count": 33,
   "id": "7f258d39-9ad4-4177-8589-ac7efc3ed06e",
   "metadata": {},
   "outputs": [],
   "source": [
    "import tensorflow as tf\n",
    "\n",
    "class RootMeanSquaredError(keras.metrics.Metric):\n",
    "\n",
    "    def __init__(self, name=\"rmse\", **kwargs):\n",
    "        super().__init__(name=name, **kwargs)\n",
    "        self.mse_sum = self.add_weight(name=\"mse_sum\", initializer=\"zeros\")\n",
    "        self.total_samples = self.add_weight(\n",
    "            name=\"total_samples\", initializer=\"zeros\", dtype=\"int32\")\n",
    "\n",
    "    def update_state(self, y_true, y_pred, sample_weight=None):\n",
    "        y_true = tf.one_hot(y_true, depth=tf.shape(y_pred)[1])\n",
    "        mse = tf.reduce_sum(tf.square(y_true - y_pred))\n",
    "        self.mse_sum.assign_add(mse)\n",
    "        num_samples = tf.shape(y_pred)[0]\n",
    "        self.total_samples.assign_add(num_samples)\n",
    "\n",
    "    def result(self):\n",
    "        return tf.sqrt(self.mse_sum / tf.cast(self.total_samples, tf.float32))\n",
    "\n",
    "    def reset_state(self):\n",
    "        self.mse_sum.assign(0.)\n",
    "        self.total_samples.assign(0)"
   ]
  },
  {
   "cell_type": "code",
   "execution_count": 34,
   "id": "b0099cdc-74dd-46b6-b88a-4842feca5f00",
   "metadata": {},
   "outputs": [
    {
     "name": "stdout",
     "output_type": "stream",
     "text": [
      "Epoch 1/3\n",
      "1563/1563 [==============================] - 9s 5ms/step - loss: 0.2963 - accuracy: 0.9123 - rmse: 7.1823 - val_loss: 0.1516 - val_accuracy: 0.9584 - val_rmse: 7.3711\n",
      "Epoch 2/3\n",
      "1563/1563 [==============================] - 8s 5ms/step - loss: 0.1642 - accuracy: 0.9549 - rmse: 7.3587 - val_loss: 0.1277 - val_accuracy: 0.9634 - val_rmse: 7.4006\n",
      "Epoch 3/3\n",
      "1563/1563 [==============================] - 8s 5ms/step - loss: 0.1388 - accuracy: 0.9631 - rmse: 7.3915 - val_loss: 0.1076 - val_accuracy: 0.9724 - val_rmse: 7.4170\n",
      "313/313 [==============================] - 1s 2ms/step - loss: 0.1026 - accuracy: 0.9727 - rmse: 7.4285\n"
     ]
    }
   ],
   "source": [
    "model = get_mnist_model()\n",
    "model.compile(optimizer=\"rmsprop\",\n",
    "              loss=\"sparse_categorical_crossentropy\",\n",
    "              metrics=[\"accuracy\", RootMeanSquaredError()])\n",
    "model.fit(train_images, train_labels,\n",
    "          epochs=3,\n",
    "          validation_data=(val_images, val_labels))\n",
    "test_metrics = model.evaluate(test_images, test_labels)"
   ]
  },
  {
   "cell_type": "code",
   "execution_count": 35,
   "id": "82c057ac-ea82-4cc7-b74b-d635c441359e",
   "metadata": {},
   "outputs": [
    {
     "name": "stdout",
     "output_type": "stream",
     "text": [
      "Epoch 1/10\n",
      "1563/1563 [==============================] - 8s 5ms/step - loss: 0.2952 - accuracy: 0.9120 - val_loss: 0.1511 - val_accuracy: 0.9556\n",
      "Epoch 2/10\n",
      "1563/1563 [==============================] - 8s 5ms/step - loss: 0.1643 - accuracy: 0.9535 - val_loss: 0.1176 - val_accuracy: 0.9676\n",
      "Epoch 3/10\n",
      "1563/1563 [==============================] - 8s 5ms/step - loss: 0.1380 - accuracy: 0.9627 - val_loss: 0.1131 - val_accuracy: 0.9699\n",
      "Epoch 4/10\n",
      "1563/1563 [==============================] - 7s 5ms/step - loss: 0.1270 - accuracy: 0.9670 - val_loss: 0.1060 - val_accuracy: 0.9730\n",
      "Epoch 5/10\n",
      "1563/1563 [==============================] - 8s 5ms/step - loss: 0.1146 - accuracy: 0.9712 - val_loss: 0.1125 - val_accuracy: 0.9742\n",
      "Epoch 6/10\n",
      "1563/1563 [==============================] - 7s 5ms/step - loss: 0.1116 - accuracy: 0.9727 - val_loss: 0.1143 - val_accuracy: 0.9733\n",
      "Epoch 7/10\n",
      "1563/1563 [==============================] - 8s 5ms/step - loss: 0.1078 - accuracy: 0.9750 - val_loss: 0.1105 - val_accuracy: 0.9765\n",
      "Epoch 8/10\n",
      "1563/1563 [==============================] - 7s 5ms/step - loss: 0.0980 - accuracy: 0.9769 - val_loss: 0.1068 - val_accuracy: 0.9781\n",
      "Epoch 9/10\n",
      "1563/1563 [==============================] - 8s 5ms/step - loss: 0.0947 - accuracy: 0.9792 - val_loss: 0.1183 - val_accuracy: 0.9774\n",
      "Epoch 10/10\n",
      "1563/1563 [==============================] - 8s 5ms/step - loss: 0.0947 - accuracy: 0.9788 - val_loss: 0.1201 - val_accuracy: 0.9769\n"
     ]
    },
    {
     "data": {
      "text/plain": [
       "<keras.callbacks.History at 0x28b2e8c0ca0>"
      ]
     },
     "execution_count": 35,
     "metadata": {},
     "output_type": "execute_result"
    }
   ],
   "source": [
    "callbacks_list = [\n",
    "    keras.callbacks.EarlyStopping(\n",
    "        monitor=\"val_accuracy\",\n",
    "        patience=2,\n",
    "    ),\n",
    "    keras.callbacks.ModelCheckpoint(\n",
    "        filepath=\"checkpoint_path.keras\",\n",
    "        monitor=\"val_loss\",\n",
    "        save_best_only=True,\n",
    "    )\n",
    "]\n",
    "model = get_mnist_model()\n",
    "model.compile(optimizer=\"rmsprop\",\n",
    "              loss=\"sparse_categorical_crossentropy\",\n",
    "              metrics=[\"accuracy\"])\n",
    "model.fit(train_images, train_labels,\n",
    "          epochs=10,\n",
    "          callbacks=callbacks_list,\n",
    "          validation_data=(val_images, val_labels))"
   ]
  },
  {
   "cell_type": "code",
   "execution_count": 36,
   "id": "c2c5150b-03c7-4028-9704-9b1b67c5ee25",
   "metadata": {},
   "outputs": [],
   "source": [
    "model = keras.models.load_model(\"checkpoint_path.keras\")"
   ]
  },
  {
   "cell_type": "code",
   "execution_count": 37,
   "id": "2ab90a24-3361-4178-8cce-b76bcab1a103",
   "metadata": {},
   "outputs": [],
   "source": [
    "from matplotlib import pyplot as plt\n",
    "\n",
    "class LossHistory(keras.callbacks.Callback):\n",
    "    def on_train_begin(self, logs):\n",
    "        self.per_batch_losses = []\n",
    "\n",
    "    def on_batch_end(self, batch, logs):\n",
    "        self.per_batch_losses.append(logs.get(\"loss\"))\n",
    "\n",
    "    def on_epoch_end(self, epoch, logs):\n",
    "        plt.clf()\n",
    "        plt.plot(range(len(self.per_batch_losses)), self.per_batch_losses,\n",
    "                 label=\"Training loss for each batch\")\n",
    "        plt.xlabel(f\"Batch (epoch {epoch})\")\n",
    "        plt.ylabel(\"Loss\")\n",
    "        plt.legend()\n",
    "        plt.savefig(f\"plot_at_epoch_{epoch}\")\n",
    "        self.per_batch_losses = []"
   ]
  },
  {
   "cell_type": "code",
   "execution_count": 38,
   "id": "6aa26daa-8948-4179-96df-ba774e0ca576",
   "metadata": {},
   "outputs": [
    {
     "name": "stdout",
     "output_type": "stream",
     "text": [
      "Epoch 1/10\n",
      "1563/1563 [==============================] - 9s 6ms/step - loss: 0.2935 - accuracy: 0.9132 - val_loss: 0.1450 - val_accuracy: 0.9589\n",
      "Epoch 2/10\n",
      "1563/1563 [==============================] - 9s 5ms/step - loss: 0.1654 - accuracy: 0.9531 - val_loss: 0.1265 - val_accuracy: 0.9666\n",
      "Epoch 3/10\n",
      "1563/1563 [==============================] - 8s 5ms/step - loss: 0.1432 - accuracy: 0.9613 - val_loss: 0.1182 - val_accuracy: 0.9706\n",
      "Epoch 4/10\n",
      "1563/1563 [==============================] - 8s 5ms/step - loss: 0.1271 - accuracy: 0.9675 - val_loss: 0.1180 - val_accuracy: 0.9712\n",
      "Epoch 5/10\n",
      "1563/1563 [==============================] - 8s 5ms/step - loss: 0.1177 - accuracy: 0.9704 - val_loss: 0.1134 - val_accuracy: 0.9744\n",
      "Epoch 6/10\n",
      "1563/1563 [==============================] - 8s 5ms/step - loss: 0.1123 - accuracy: 0.9724 - val_loss: 0.1121 - val_accuracy: 0.9764\n",
      "Epoch 7/10\n",
      "1563/1563 [==============================] - 8s 5ms/step - loss: 0.1073 - accuracy: 0.9747 - val_loss: 0.1157 - val_accuracy: 0.9767\n",
      "Epoch 8/10\n",
      "1563/1563 [==============================] - 8s 5ms/step - loss: 0.1006 - accuracy: 0.9762 - val_loss: 0.1244 - val_accuracy: 0.9756\n",
      "Epoch 9/10\n",
      "1563/1563 [==============================] - 8s 5ms/step - loss: 0.1000 - accuracy: 0.9773 - val_loss: 0.1308 - val_accuracy: 0.9758\n",
      "Epoch 10/10\n",
      "1563/1563 [==============================] - 9s 5ms/step - loss: 0.0940 - accuracy: 0.9791 - val_loss: 0.1203 - val_accuracy: 0.9771\n"
     ]
    },
    {
     "data": {
      "text/plain": [
       "<keras.callbacks.History at 0x28b2552ddf0>"
      ]
     },
     "execution_count": 38,
     "metadata": {},
     "output_type": "execute_result"
    },
    {
     "data": {
      "image/png": "[encoded data removed]",
      "text/plain": [
       "<Figure size 432x288 with 1 Axes>"
      ]
     },
     "metadata": {
      "needs_background": "light"
     },
     "output_type": "display_data"
    }
   ],
   "source": [
    "model = get_mnist_model()\n",
    "model.compile(optimizer=\"rmsprop\",\n",
    "              loss=\"sparse_categorical_crossentropy\",\n",
    "              metrics=[\"accuracy\"])\n",
    "model.fit(train_images, train_labels,\n",
    "          epochs=10,\n",
    "          callbacks=[LossHistory()],\n",
    "          validation_data=(val_images, val_labels))"
   ]
  },
  {
   "cell_type": "code",
   "execution_count": 39,
   "id": "17058854-21e4-44c8-af93-bbeb69f5b119",
   "metadata": {},
   "outputs": [
    {
     "name": "stdout",
     "output_type": "stream",
     "text": [
      "Epoch 1/10\n",
      "1563/1563 [==============================] - 9s 5ms/step - loss: 0.2946 - accuracy: 0.9137 - val_loss: 0.1528 - val_accuracy: 0.9551\n",
      "Epoch 2/10\n",
      "1563/1563 [==============================] - 8s 5ms/step - loss: 0.1653 - accuracy: 0.9540 - val_loss: 0.1237 - val_accuracy: 0.9660\n",
      "Epoch 3/10\n",
      "1563/1563 [==============================] - 8s 5ms/step - loss: 0.1390 - accuracy: 0.9621 - val_loss: 0.1146 - val_accuracy: 0.9707\n",
      "Epoch 4/10\n",
      "1563/1563 [==============================] - 8s 5ms/step - loss: 0.1255 - accuracy: 0.9685 - val_loss: 0.1037 - val_accuracy: 0.9738\n",
      "Epoch 5/10\n",
      "1563/1563 [==============================] - 8s 5ms/step - loss: 0.1211 - accuracy: 0.9692 - val_loss: 0.1076 - val_accuracy: 0.9745\n",
      "Epoch 6/10\n",
      "1563/1563 [==============================] - 8s 5ms/step - loss: 0.1108 - accuracy: 0.9744 - val_loss: 0.1105 - val_accuracy: 0.9763\n",
      "Epoch 7/10\n",
      "1563/1563 [==============================] - 8s 5ms/step - loss: 0.1033 - accuracy: 0.9754 - val_loss: 0.1086 - val_accuracy: 0.9753\n",
      "Epoch 8/10\n",
      "1563/1563 [==============================] - 8s 5ms/step - loss: 0.1033 - accuracy: 0.9757 - val_loss: 0.1152 - val_accuracy: 0.9768\n",
      "Epoch 9/10\n",
      "1563/1563 [==============================] - 8s 5ms/step - loss: 0.0990 - accuracy: 0.9777 - val_loss: 0.1256 - val_accuracy: 0.9745\n",
      "Epoch 10/10\n",
      "1563/1563 [==============================] - 8s 5ms/step - loss: 0.0961 - accuracy: 0.9782 - val_loss: 0.1257 - val_accuracy: 0.9765\n"
     ]
    },
    {
     "data": {
      "text/plain": [
       "<keras.callbacks.History at 0x28b24ea4b80>"
      ]
     },
     "execution_count": 39,
     "metadata": {},
     "output_type": "execute_result"
    }
   ],
   "source": [
    "model = get_mnist_model()\n",
    "model.compile(optimizer=\"rmsprop\",\n",
    "              loss=\"sparse_categorical_crossentropy\",\n",
    "              metrics=[\"accuracy\"])\n",
    "\n",
    "tensorboard = keras.callbacks.TensorBoard(\n",
    "    log_dir=\"/full_path_to_your_log_dir\",\n",
    ")\n",
    "model.fit(train_images, train_labels,\n",
    "          epochs=10,\n",
    "          validation_data=(val_images, val_labels),\n",
    "          callbacks=[tensorboard])"
   ]
  },
  {
   "cell_type": "code",
   "execution_count": 40,
   "id": "bbca84a0-eda5-4c64-bafb-ac443c7b232a",
   "metadata": {},
   "outputs": [
    {
     "data": {
      "text/html": [
       "\n",
       "      <iframe id=\"tensorboard-frame-2d47ffd4b84cea37\" width=\"100%\" height=\"800\" frameborder=\"0\">\n",
       "      </iframe>\n",
       "      <script>\n",
       "        (function() {\n",
       "          const frame = document.getElementById(\"tensorboard-frame-2d47ffd4b84cea37\");\n",
       "          const url = new URL(\"/\", window.location);\n",
       "          const port = 6006;\n",
       "          if (port) {\n",
       "            url.port = port;\n",
       "          }\n",
       "          frame.src = url;\n",
       "        })();\n",
       "      </script>\n",
       "    "
      ],
      "text/plain": [
       "<IPython.core.display.HTML object>"
      ]
     },
     "metadata": {},
     "output_type": "display_data"
    }
   ],
   "source": [
    "%load_ext tensorboard\n",
    "%tensorboard --logdir /full_path_to_your_log_dir"
   ]
  },
  {
   "cell_type": "code",
   "execution_count": 41,
   "id": "42e84a56-06ff-4ff4-8980-d88697123c69",
   "metadata": {},
   "outputs": [
    {
     "name": "stdout",
     "output_type": "stream",
     "text": [
      "result: 1.00\n"
     ]
    }
   ],
   "source": [
    "metric = keras.metrics.SparseCategoricalAccuracy()\n",
    "targets = [0, 1, 2]\n",
    "predictions = [[1, 0, 0], [0, 1, 0], [0, 0, 1]]\n",
    "metric.update_state(targets, predictions)\n",
    "current_result = metric.result()\n",
    "print(f\"result: {current_result:.2f}\")"
   ]
  },
  {
   "cell_type": "code",
   "execution_count": 42,
   "id": "7bb8ad58-b1c0-4e8c-9b1d-4eb23aaed319",
   "metadata": {},
   "outputs": [
    {
     "name": "stdout",
     "output_type": "stream",
     "text": [
      "Mean of values: 2.00\n"
     ]
    }
   ],
   "source": [
    "values = [0, 1, 2, 3, 4]\n",
    "mean_tracker = keras.metrics.Mean()\n",
    "for value in values:\n",
    "    mean_tracker.update_state(value)\n",
    "print(f\"Mean of values: {mean_tracker.result():.2f}\")"
   ]
  },
  {
   "cell_type": "code",
   "execution_count": 43,
   "id": "98853a5d-be90-4ff6-9882-7f68ea663540",
   "metadata": {},
   "outputs": [],
   "source": [
    "model = get_mnist_model()\n",
    "\n",
    "loss_fn = keras.losses.SparseCategoricalCrossentropy()\n",
    "optimizer = keras.optimizers.RMSprop()\n",
    "metrics = [keras.metrics.SparseCategoricalAccuracy()]\n",
    "loss_tracking_metric = keras.metrics.Mean()\n",
    "\n",
    "def train_step(inputs, targets):\n",
    "    with tf.GradientTape() as tape:\n",
    "        predictions = model(inputs, training=True)\n",
    "        loss = loss_fn(targets, predictions)\n",
    "    gradients = tape.gradient(loss, model.trainable_weights)\n",
    "    optimizer.apply_gradients(zip(gradients, model.trainable_weights))\n",
    "\n",
    "    logs = {}\n",
    "    for metric in metrics:\n",
    "        metric.update_state(targets, predictions)\n",
    "        logs[metric.name] = metric.result()\n",
    "\n",
    "    loss_tracking_metric.update_state(loss)\n",
    "    logs[\"loss\"] = loss_tracking_metric.result()\n",
    "    return logs"
   ]
  },
  {
   "cell_type": "code",
   "execution_count": 44,
   "id": "b2023740-33e9-499c-9a32-723d25f03ae5",
   "metadata": {},
   "outputs": [],
   "source": [
    "def reset_metrics():\n",
    "    for metric in metrics:\n",
    "        metric.reset_state()\n",
    "    loss_tracking_metric.reset_state()"
   ]
  },
  {
   "cell_type": "code",
   "execution_count": 46,
   "id": "7e229504-acce-40a3-92f0-8873b491a4bf",
   "metadata": {},
   "outputs": [
    {
     "name": "stdout",
     "output_type": "stream",
     "text": [
      "Results at the end of epoch 0\n",
      "...sparse_categorical_accuracy: 0.9530\n",
      "...loss: 0.1663\n",
      "Results at the end of epoch 1\n",
      "...sparse_categorical_accuracy: 0.9627\n",
      "...loss: 0.1402\n",
      "Results at the end of epoch 2\n",
      "...sparse_categorical_accuracy: 0.9672\n",
      "...loss: 0.1282\n"
     ]
    }
   ],
   "source": [
    "training_dataset = tf.data.Dataset.from_tensor_slices((train_images, train_labels))\n",
    "training_dataset = training_dataset.batch(32)\n",
    "epochs = 3\n",
    "for epoch in range(epochs):\n",
    "    reset_metrics()\n",
    "    for inputs_batch, targets_batch in training_dataset:\n",
    "        logs = train_step(inputs_batch, targets_batch)\n",
    "    print(f\"Results at the end of epoch {epoch}\")\n",
    "    for key, value in logs.items():\n",
    "        print(f\"...{key}: {value:.4f}\")"
   ]
  },
  {
   "cell_type": "code",
   "execution_count": 47,
   "id": "efceb9aa-47e7-4801-9767-41d2c09d79a1",
   "metadata": {},
   "outputs": [
    {
     "name": "stdout",
     "output_type": "stream",
     "text": [
      "Evaluation results:\n",
      "...val_sparse_categorical_accuracy: 0.9683\n",
      "...val_loss: 0.1285\n"
     ]
    }
   ],
   "source": [
    "def test_step(inputs, targets):\n",
    "    predictions = model(inputs, training=False)\n",
    "    loss = loss_fn(targets, predictions)\n",
    "\n",
    "    logs = {}\n",
    "    for metric in metrics:\n",
    "        metric.update_state(targets, predictions)\n",
    "        logs[\"val_\" + metric.name] = metric.result()\n",
    "\n",
    "    loss_tracking_metric.update_state(loss)\n",
    "    logs[\"val_loss\"] = loss_tracking_metric.result()\n",
    "    return logs\n",
    "\n",
    "val_dataset = tf.data.Dataset.from_tensor_slices((val_images, val_labels))\n",
    "val_dataset = val_dataset.batch(32)\n",
    "reset_metrics()\n",
    "for inputs_batch, targets_batch in val_dataset:\n",
    "    logs = test_step(inputs_batch, targets_batch)\n",
    "print(\"Evaluation results:\")\n",
    "for key, value in logs.items():\n",
    "    print(f\"...{key}: {value:.4f}\")"
   ]
  },
  {
   "cell_type": "code",
   "execution_count": 48,
   "id": "c2d76236-12b9-45d2-ae69-0e0de9c70eb4",
   "metadata": {},
   "outputs": [
    {
     "name": "stdout",
     "output_type": "stream",
     "text": [
      "Evaluation results:\n",
      "...val_sparse_categorical_accuracy: 0.9683\n",
      "...val_loss: 0.1285\n"
     ]
    }
   ],
   "source": [
    "@tf.function\n",
    "def test_step(inputs, targets):\n",
    "    predictions = model(inputs, training=False)\n",
    "    loss = loss_fn(targets, predictions)\n",
    "\n",
    "    logs = {}\n",
    "    for metric in metrics:\n",
    "        metric.update_state(targets, predictions)\n",
    "        logs[\"val_\" + metric.name] = metric.result()\n",
    "\n",
    "    loss_tracking_metric.update_state(loss)\n",
    "    logs[\"val_loss\"] = loss_tracking_metric.result()\n",
    "    return logs\n",
    "\n",
    "val_dataset = tf.data.Dataset.from_tensor_slices((val_images, val_labels))\n",
    "val_dataset = val_dataset.batch(32)\n",
    "reset_metrics()\n",
    "for inputs_batch, targets_batch in val_dataset:\n",
    "    logs = test_step(inputs_batch, targets_batch)\n",
    "print(\"Evaluation results:\")\n",
    "for key, value in logs.items():\n",
    "    print(f\"...{key}: {value:.4f}\")"
   ]
  },
  {
   "cell_type": "code",
   "execution_count": 49,
   "id": "56989b57-9474-4b51-8a4b-2139910f524b",
   "metadata": {},
   "outputs": [],
   "source": [
    "loss_fn = keras.losses.SparseCategoricalCrossentropy()\n",
    "loss_tracker = keras.metrics.Mean(name=\"loss\")\n",
    "\n",
    "class CustomModel(keras.Model):\n",
    "    def train_step(self, data):\n",
    "        inputs, targets = data\n",
    "        with tf.GradientTape() as tape:\n",
    "            predictions = self(inputs, training=True)\n",
    "            loss = loss_fn(targets, predictions)\n",
    "        gradients = tape.gradient(loss, self.trainable_weights)\n",
    "        self.optimizer.apply_gradients(zip(gradients, self.trainable_weights))\n",
    "\n",
    "        loss_tracker.update_state(loss)\n",
    "        return {\"loss\": loss_tracker.result()}\n",
    "\n",
    "    @property\n",
    "    def metrics(self):\n",
    "        return [loss_tracker]"
   ]
  },
  {
   "cell_type": "code",
   "execution_count": 50,
   "id": "3919e3cc-ad44-41bc-867b-4396b00df7e0",
   "metadata": {},
   "outputs": [
    {
     "name": "stdout",
     "output_type": "stream",
     "text": [
      "Epoch 1/3\n",
      "1563/1563 [==============================] - 7s 5ms/step - loss: 0.2940\n",
      "Epoch 2/3\n",
      "1563/1563 [==============================] - 7s 5ms/step - loss: 0.1631\n",
      "Epoch 3/3\n",
      "1563/1563 [==============================] - 8s 5ms/step - loss: 0.1383\n"
     ]
    },
    {
     "data": {
      "text/plain": [
       "<keras.callbacks.History at 0x28b255f6970>"
      ]
     },
     "execution_count": 50,
     "metadata": {},
     "output_type": "execute_result"
    }
   ],
   "source": [
    "inputs = keras.Input(shape=(28 * 28,))\n",
    "features = layers.Dense(512, activation=\"relu\")(inputs)\n",
    "features = layers.Dropout(0.5)(features)\n",
    "outputs = layers.Dense(10, activation=\"softmax\")(features)\n",
    "model = CustomModel(inputs, outputs)\n",
    "\n",
    "model.compile(optimizer=keras.optimizers.RMSprop())\n",
    "model.fit(train_images, train_labels, epochs=3)"
   ]
  },
  {
   "cell_type": "code",
   "execution_count": 51,
   "id": "bb5fe71e-0d38-4e8a-b4a5-b93a1778a495",
   "metadata": {},
   "outputs": [],
   "source": [
    "class CustomModel(keras.Model):\n",
    "    def train_step(self, data):\n",
    "        inputs, targets = data\n",
    "        with tf.GradientTape() as tape:\n",
    "            predictions = self(inputs, training=True)\n",
    "            loss = self.compiled_loss(targets, predictions)\n",
    "        gradients = tape.gradient(loss, self.trainable_weights)\n",
    "        self.optimizer.apply_gradients(zip(gradients, self.trainable_weights))\n",
    "        self.compiled_metrics.update_state(targets, predictions)\n",
    "        return {m.name: m.result() for m in self.metrics}"
   ]
  },
  {
   "cell_type": "code",
   "execution_count": 52,
   "id": "ebd8b54c-0e1c-4012-91ad-132bc2ffcf18",
   "metadata": {},
   "outputs": [
    {
     "name": "stdout",
     "output_type": "stream",
     "text": [
      "Epoch 1/3\n",
      "1563/1563 [==============================] - 8s 5ms/step - loss: 0.2948 - sparse_categorical_accuracy: 0.9138\n",
      "Epoch 2/3\n",
      "1563/1563 [==============================] - 7s 5ms/step - loss: 0.1679 - sparse_categorical_accuracy: 0.9529\n",
      "Epoch 3/3\n",
      "1563/1563 [==============================] - 7s 5ms/step - loss: 0.1402 - sparse_categorical_accuracy: 0.9622\n"
     ]
    },
    {
     "data": {
      "text/plain": [
       "<keras.callbacks.History at 0x28b24d67f10>"
      ]
     },
     "execution_count": 52,
     "metadata": {},
     "output_type": "execute_result"
    }
   ],
   "source": [
    "inputs = keras.Input(shape=(28 * 28,))\n",
    "features = layers.Dense(512, activation=\"relu\")(inputs)\n",
    "features = layers.Dropout(0.5)(features)\n",
    "outputs = layers.Dense(10, activation=\"softmax\")(features)\n",
    "model = CustomModel(inputs, outputs)\n",
    "\n",
    "model.compile(optimizer=keras.optimizers.RMSprop(),\n",
    "              loss=keras.losses.SparseCategoricalCrossentropy(),\n",
    "              metrics=[keras.metrics.SparseCategoricalAccuracy()])\n",
    "model.fit(train_images, train_labels, epochs=3)"
   ]
  },
  {
   "cell_type": "code",
   "execution_count": null,
   "id": "a285c78e-6602-4615-9777-3725337ba42b",
   "metadata": {},
   "outputs": [],
   "source": []
  }
 ],
 "metadata": {
  "kernelspec": {
   "display_name": "Python 3 (ipykernel)",
   "language": "python",
   "name": "python3"
  },
  "language_info": {
   "codemirror_mode": {
    "name": "ipython",
    "version": 3
   },
   "file_extension": ".py",
   "mimetype": "text/x-python",
   "name": "python",
   "nbconvert_exporter": "python",
   "pygments_lexer": "ipython3",
   "version": "3.9.7"
  }
 },
 "nbformat": 4,
 "nbformat_minor": 5
}
